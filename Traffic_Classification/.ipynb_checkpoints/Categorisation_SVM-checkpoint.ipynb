{
 "cells": [
  {
   "cell_type": "markdown",
   "id": "08db943d-07a7-4b38-b0c4-141903eb85de",
   "metadata": {},
   "source": [
    "## Loading Dataset"
   ]
  },
  {
   "cell_type": "code",
   "execution_count": 9,
   "id": "306217a6-def5-4312-81ad-72a737b426d8",
   "metadata": {},
   "outputs": [],
   "source": [
    "from scipy.io import arff\n",
    "import pandas as pd\n",
    "\n",
    "# Load the ARFF file using scipy since all attributes are numeric and there is no sparse or \n",
    "data, meta = arff.loadarff(\"C:\\\\Users\\\\Soham Bhanap\\\\Documents\\\\Academics\\\\Internships\\\\Intel_Unnati\\\\Workspace\\\\TimeBasedFeatures-Dataset-15s-VPN.arff\")\n",
    "\n",
    "# Convert to pandas DataFrame\n",
    "df = pd.DataFrame(data)\n"
   ]
  },
  {
   "cell_type": "code",
   "execution_count": 10,
   "id": "266c5f60-aa77-4e60-bd1e-ee0c50f10ba2",
   "metadata": {},
   "outputs": [],
   "source": [
    "df['class1'] = df['class1'].str.decode('utf-8')  # Converting the last column from byte strings to normal strings for better comatability with libraries"
   ]
  },
  {
   "cell_type": "code",
   "execution_count": 11,
   "id": "507a4ee0-475d-451e-b146-0de750500cc2",
   "metadata": {},
   "outputs": [
    {
     "data": {
      "text/html": [
       "<div>\n",
       "<style scoped>\n",
       "    .dataframe tbody tr th:only-of-type {\n",
       "        vertical-align: middle;\n",
       "    }\n",
       "\n",
       "    .dataframe tbody tr th {\n",
       "        vertical-align: top;\n",
       "    }\n",
       "\n",
       "    .dataframe thead th {\n",
       "        text-align: right;\n",
       "    }\n",
       "</style>\n",
       "<table border=\"1\" class=\"dataframe\">\n",
       "  <thead>\n",
       "    <tr style=\"text-align: right;\">\n",
       "      <th></th>\n",
       "      <th>duration</th>\n",
       "      <th>total_fiat</th>\n",
       "      <th>total_biat</th>\n",
       "      <th>min_fiat</th>\n",
       "      <th>min_biat</th>\n",
       "      <th>max_fiat</th>\n",
       "      <th>max_biat</th>\n",
       "      <th>mean_fiat</th>\n",
       "      <th>mean_biat</th>\n",
       "      <th>flowPktsPerSecond</th>\n",
       "      <th>...</th>\n",
       "      <th>std_flowiat</th>\n",
       "      <th>min_active</th>\n",
       "      <th>mean_active</th>\n",
       "      <th>max_active</th>\n",
       "      <th>std_active</th>\n",
       "      <th>min_idle</th>\n",
       "      <th>mean_idle</th>\n",
       "      <th>max_idle</th>\n",
       "      <th>std_idle</th>\n",
       "      <th>class1</th>\n",
       "    </tr>\n",
       "  </thead>\n",
       "  <tbody>\n",
       "    <tr>\n",
       "      <th>0</th>\n",
       "      <td>2218398.0</td>\n",
       "      <td>2191528.0</td>\n",
       "      <td>2192676.0</td>\n",
       "      <td>9.0</td>\n",
       "      <td>17.0</td>\n",
       "      <td>60217.0</td>\n",
       "      <td>86113.0</td>\n",
       "      <td>601.077345</td>\n",
       "      <td>370.009450</td>\n",
       "      <td>4315.726934</td>\n",
       "      <td>...</td>\n",
       "      <td>1815.741336</td>\n",
       "      <td>-1.0</td>\n",
       "      <td>0.0</td>\n",
       "      <td>-1.0</td>\n",
       "      <td>0.000000</td>\n",
       "      <td>-1.0</td>\n",
       "      <td>0.0</td>\n",
       "      <td>-1.0</td>\n",
       "      <td>0.000000</td>\n",
       "      <td>VPN-BROWSING</td>\n",
       "    </tr>\n",
       "    <tr>\n",
       "      <th>1</th>\n",
       "      <td>3517813.0</td>\n",
       "      <td>3517813.0</td>\n",
       "      <td>3304404.0</td>\n",
       "      <td>6.0</td>\n",
       "      <td>7.0</td>\n",
       "      <td>324059.0</td>\n",
       "      <td>217426.0</td>\n",
       "      <td>1413.911977</td>\n",
       "      <td>998.912938</td>\n",
       "      <td>1648.183118</td>\n",
       "      <td>...</td>\n",
       "      <td>8971.721519</td>\n",
       "      <td>-1.0</td>\n",
       "      <td>0.0</td>\n",
       "      <td>-1.0</td>\n",
       "      <td>0.000000</td>\n",
       "      <td>-1.0</td>\n",
       "      <td>0.0</td>\n",
       "      <td>-1.0</td>\n",
       "      <td>0.000000</td>\n",
       "      <td>VPN-BROWSING</td>\n",
       "    </tr>\n",
       "    <tr>\n",
       "      <th>2</th>\n",
       "      <td>13567657.0</td>\n",
       "      <td>13394098.0</td>\n",
       "      <td>13437531.0</td>\n",
       "      <td>0.0</td>\n",
       "      <td>0.0</td>\n",
       "      <td>3906748.0</td>\n",
       "      <td>3908013.0</td>\n",
       "      <td>10604.986540</td>\n",
       "      <td>5204.310999</td>\n",
       "      <td>283.541956</td>\n",
       "      <td>...</td>\n",
       "      <td>65256.442153</td>\n",
       "      <td>5816127.0</td>\n",
       "      <td>5816127.0</td>\n",
       "      <td>5816127.0</td>\n",
       "      <td>0.000000</td>\n",
       "      <td>3777807.0</td>\n",
       "      <td>3777807.0</td>\n",
       "      <td>3777807.0</td>\n",
       "      <td>0.000000</td>\n",
       "      <td>VPN-BROWSING</td>\n",
       "    </tr>\n",
       "    <tr>\n",
       "      <th>3</th>\n",
       "      <td>14697122.0</td>\n",
       "      <td>14567358.0</td>\n",
       "      <td>14567724.0</td>\n",
       "      <td>4.0</td>\n",
       "      <td>14.0</td>\n",
       "      <td>2447126.0</td>\n",
       "      <td>2406746.0</td>\n",
       "      <td>15799.737527</td>\n",
       "      <td>6497.646744</td>\n",
       "      <td>215.416324</td>\n",
       "      <td>...</td>\n",
       "      <td>51735.382672</td>\n",
       "      <td>5068736.0</td>\n",
       "      <td>5435233.5</td>\n",
       "      <td>5801731.0</td>\n",
       "      <td>518305.735075</td>\n",
       "      <td>1141447.0</td>\n",
       "      <td>1708300.0</td>\n",
       "      <td>2275153.0</td>\n",
       "      <td>801651.200471</td>\n",
       "      <td>VPN-BROWSING</td>\n",
       "    </tr>\n",
       "    <tr>\n",
       "      <th>4</th>\n",
       "      <td>270207.0</td>\n",
       "      <td>203681.0</td>\n",
       "      <td>244006.0</td>\n",
       "      <td>15.0</td>\n",
       "      <td>10.0</td>\n",
       "      <td>27147.0</td>\n",
       "      <td>66572.0</td>\n",
       "      <td>593.822157</td>\n",
       "      <td>363.104167</td>\n",
       "      <td>3763.781101</td>\n",
       "      <td>...</td>\n",
       "      <td>2648.293598</td>\n",
       "      <td>-1.0</td>\n",
       "      <td>0.0</td>\n",
       "      <td>-1.0</td>\n",
       "      <td>0.000000</td>\n",
       "      <td>-1.0</td>\n",
       "      <td>0.0</td>\n",
       "      <td>-1.0</td>\n",
       "      <td>0.000000</td>\n",
       "      <td>VPN-BROWSING</td>\n",
       "    </tr>\n",
       "  </tbody>\n",
       "</table>\n",
       "<p>5 rows × 24 columns</p>\n",
       "</div>"
      ],
      "text/plain": [
       "     duration  total_fiat  total_biat  min_fiat  min_biat   max_fiat  \\\n",
       "0   2218398.0   2191528.0   2192676.0       9.0      17.0    60217.0   \n",
       "1   3517813.0   3517813.0   3304404.0       6.0       7.0   324059.0   \n",
       "2  13567657.0  13394098.0  13437531.0       0.0       0.0  3906748.0   \n",
       "3  14697122.0  14567358.0  14567724.0       4.0      14.0  2447126.0   \n",
       "4    270207.0    203681.0    244006.0      15.0      10.0    27147.0   \n",
       "\n",
       "    max_biat     mean_fiat    mean_biat  flowPktsPerSecond  ...   std_flowiat  \\\n",
       "0    86113.0    601.077345   370.009450        4315.726934  ...   1815.741336   \n",
       "1   217426.0   1413.911977   998.912938        1648.183118  ...   8971.721519   \n",
       "2  3908013.0  10604.986540  5204.310999         283.541956  ...  65256.442153   \n",
       "3  2406746.0  15799.737527  6497.646744         215.416324  ...  51735.382672   \n",
       "4    66572.0    593.822157   363.104167        3763.781101  ...   2648.293598   \n",
       "\n",
       "   min_active  mean_active  max_active     std_active   min_idle  mean_idle  \\\n",
       "0        -1.0          0.0        -1.0       0.000000       -1.0        0.0   \n",
       "1        -1.0          0.0        -1.0       0.000000       -1.0        0.0   \n",
       "2   5816127.0    5816127.0   5816127.0       0.000000  3777807.0  3777807.0   \n",
       "3   5068736.0    5435233.5   5801731.0  518305.735075  1141447.0  1708300.0   \n",
       "4        -1.0          0.0        -1.0       0.000000       -1.0        0.0   \n",
       "\n",
       "    max_idle       std_idle        class1  \n",
       "0       -1.0       0.000000  VPN-BROWSING  \n",
       "1       -1.0       0.000000  VPN-BROWSING  \n",
       "2  3777807.0       0.000000  VPN-BROWSING  \n",
       "3  2275153.0  801651.200471  VPN-BROWSING  \n",
       "4       -1.0       0.000000  VPN-BROWSING  \n",
       "\n",
       "[5 rows x 24 columns]"
      ]
     },
     "execution_count": 11,
     "metadata": {},
     "output_type": "execute_result"
    }
   ],
   "source": [
    "df.head()"
   ]
  },
  {
   "cell_type": "code",
   "execution_count": 12,
   "id": "3b478954-0b0c-403c-88ea-7c42bd9c94f4",
   "metadata": {},
   "outputs": [
    {
     "data": {
      "text/html": [
       "<div>\n",
       "<style scoped>\n",
       "    .dataframe tbody tr th:only-of-type {\n",
       "        vertical-align: middle;\n",
       "    }\n",
       "\n",
       "    .dataframe tbody tr th {\n",
       "        vertical-align: top;\n",
       "    }\n",
       "\n",
       "    .dataframe thead th {\n",
       "        text-align: right;\n",
       "    }\n",
       "</style>\n",
       "<table border=\"1\" class=\"dataframe\">\n",
       "  <thead>\n",
       "    <tr style=\"text-align: right;\">\n",
       "      <th></th>\n",
       "      <th>duration</th>\n",
       "      <th>total_fiat</th>\n",
       "      <th>total_biat</th>\n",
       "      <th>min_fiat</th>\n",
       "      <th>min_biat</th>\n",
       "      <th>max_fiat</th>\n",
       "      <th>max_biat</th>\n",
       "      <th>mean_fiat</th>\n",
       "      <th>mean_biat</th>\n",
       "      <th>flowPktsPerSecond</th>\n",
       "      <th>...</th>\n",
       "      <th>std_flowiat</th>\n",
       "      <th>min_active</th>\n",
       "      <th>mean_active</th>\n",
       "      <th>max_active</th>\n",
       "      <th>std_active</th>\n",
       "      <th>min_idle</th>\n",
       "      <th>mean_idle</th>\n",
       "      <th>max_idle</th>\n",
       "      <th>std_idle</th>\n",
       "      <th>class1</th>\n",
       "    </tr>\n",
       "  </thead>\n",
       "  <tbody>\n",
       "    <tr>\n",
       "      <th>9788</th>\n",
       "      <td>0.0</td>\n",
       "      <td>0.0</td>\n",
       "      <td>0.0</td>\n",
       "      <td>-1.0</td>\n",
       "      <td>-1.0</td>\n",
       "      <td>-1.0</td>\n",
       "      <td>-1.0</td>\n",
       "      <td>0.0</td>\n",
       "      <td>0.0</td>\n",
       "      <td>0.000000</td>\n",
       "      <td>...</td>\n",
       "      <td>0.0</td>\n",
       "      <td>-1.0</td>\n",
       "      <td>0.0</td>\n",
       "      <td>-1.0</td>\n",
       "      <td>0.0</td>\n",
       "      <td>-1.0</td>\n",
       "      <td>0.0</td>\n",
       "      <td>-1.0</td>\n",
       "      <td>0.0</td>\n",
       "      <td>VPN-VOIP</td>\n",
       "    </tr>\n",
       "    <tr>\n",
       "      <th>9789</th>\n",
       "      <td>895.0</td>\n",
       "      <td>0.0</td>\n",
       "      <td>0.0</td>\n",
       "      <td>-1.0</td>\n",
       "      <td>-1.0</td>\n",
       "      <td>-1.0</td>\n",
       "      <td>-1.0</td>\n",
       "      <td>0.0</td>\n",
       "      <td>0.0</td>\n",
       "      <td>2234.636872</td>\n",
       "      <td>...</td>\n",
       "      <td>0.0</td>\n",
       "      <td>-1.0</td>\n",
       "      <td>0.0</td>\n",
       "      <td>-1.0</td>\n",
       "      <td>0.0</td>\n",
       "      <td>-1.0</td>\n",
       "      <td>0.0</td>\n",
       "      <td>-1.0</td>\n",
       "      <td>0.0</td>\n",
       "      <td>VPN-VOIP</td>\n",
       "    </tr>\n",
       "    <tr>\n",
       "      <th>9790</th>\n",
       "      <td>0.0</td>\n",
       "      <td>0.0</td>\n",
       "      <td>0.0</td>\n",
       "      <td>-1.0</td>\n",
       "      <td>-1.0</td>\n",
       "      <td>-1.0</td>\n",
       "      <td>-1.0</td>\n",
       "      <td>0.0</td>\n",
       "      <td>0.0</td>\n",
       "      <td>0.000000</td>\n",
       "      <td>...</td>\n",
       "      <td>0.0</td>\n",
       "      <td>-1.0</td>\n",
       "      <td>0.0</td>\n",
       "      <td>-1.0</td>\n",
       "      <td>0.0</td>\n",
       "      <td>-1.0</td>\n",
       "      <td>0.0</td>\n",
       "      <td>-1.0</td>\n",
       "      <td>0.0</td>\n",
       "      <td>VPN-VOIP</td>\n",
       "    </tr>\n",
       "    <tr>\n",
       "      <th>9791</th>\n",
       "      <td>0.0</td>\n",
       "      <td>0.0</td>\n",
       "      <td>0.0</td>\n",
       "      <td>-1.0</td>\n",
       "      <td>-1.0</td>\n",
       "      <td>-1.0</td>\n",
       "      <td>-1.0</td>\n",
       "      <td>0.0</td>\n",
       "      <td>0.0</td>\n",
       "      <td>0.000000</td>\n",
       "      <td>...</td>\n",
       "      <td>0.0</td>\n",
       "      <td>-1.0</td>\n",
       "      <td>0.0</td>\n",
       "      <td>-1.0</td>\n",
       "      <td>0.0</td>\n",
       "      <td>-1.0</td>\n",
       "      <td>0.0</td>\n",
       "      <td>-1.0</td>\n",
       "      <td>0.0</td>\n",
       "      <td>VPN-VOIP</td>\n",
       "    </tr>\n",
       "    <tr>\n",
       "      <th>9792</th>\n",
       "      <td>10002496.0</td>\n",
       "      <td>10002496.0</td>\n",
       "      <td>0.0</td>\n",
       "      <td>10002496.0</td>\n",
       "      <td>-1.0</td>\n",
       "      <td>10002496.0</td>\n",
       "      <td>-1.0</td>\n",
       "      <td>10000000.0</td>\n",
       "      <td>0.0</td>\n",
       "      <td>0.199950</td>\n",
       "      <td>...</td>\n",
       "      <td>0.0</td>\n",
       "      <td>10002496.0</td>\n",
       "      <td>10000000.0</td>\n",
       "      <td>10002496.0</td>\n",
       "      <td>0.0</td>\n",
       "      <td>10002496.0</td>\n",
       "      <td>10000000.0</td>\n",
       "      <td>10002496.0</td>\n",
       "      <td>0.0</td>\n",
       "      <td>VPN-VOIP</td>\n",
       "    </tr>\n",
       "  </tbody>\n",
       "</table>\n",
       "<p>5 rows × 24 columns</p>\n",
       "</div>"
      ],
      "text/plain": [
       "        duration  total_fiat  total_biat    min_fiat  min_biat    max_fiat  \\\n",
       "9788         0.0         0.0         0.0        -1.0      -1.0        -1.0   \n",
       "9789       895.0         0.0         0.0        -1.0      -1.0        -1.0   \n",
       "9790         0.0         0.0         0.0        -1.0      -1.0        -1.0   \n",
       "9791         0.0         0.0         0.0        -1.0      -1.0        -1.0   \n",
       "9792  10002496.0  10002496.0         0.0  10002496.0      -1.0  10002496.0   \n",
       "\n",
       "      max_biat   mean_fiat  mean_biat  flowPktsPerSecond  ...  std_flowiat  \\\n",
       "9788      -1.0         0.0        0.0           0.000000  ...          0.0   \n",
       "9789      -1.0         0.0        0.0        2234.636872  ...          0.0   \n",
       "9790      -1.0         0.0        0.0           0.000000  ...          0.0   \n",
       "9791      -1.0         0.0        0.0           0.000000  ...          0.0   \n",
       "9792      -1.0  10000000.0        0.0           0.199950  ...          0.0   \n",
       "\n",
       "      min_active  mean_active  max_active  std_active    min_idle   mean_idle  \\\n",
       "9788        -1.0          0.0        -1.0         0.0        -1.0         0.0   \n",
       "9789        -1.0          0.0        -1.0         0.0        -1.0         0.0   \n",
       "9790        -1.0          0.0        -1.0         0.0        -1.0         0.0   \n",
       "9791        -1.0          0.0        -1.0         0.0        -1.0         0.0   \n",
       "9792  10002496.0   10000000.0  10002496.0         0.0  10002496.0  10000000.0   \n",
       "\n",
       "        max_idle  std_idle    class1  \n",
       "9788        -1.0       0.0  VPN-VOIP  \n",
       "9789        -1.0       0.0  VPN-VOIP  \n",
       "9790        -1.0       0.0  VPN-VOIP  \n",
       "9791        -1.0       0.0  VPN-VOIP  \n",
       "9792  10002496.0       0.0  VPN-VOIP  \n",
       "\n",
       "[5 rows x 24 columns]"
      ]
     },
     "execution_count": 12,
     "metadata": {},
     "output_type": "execute_result"
    }
   ],
   "source": [
    "df.tail()"
   ]
  },
  {
   "cell_type": "markdown",
   "id": "a6778617-3d55-4037-8470-b687e0a70a73",
   "metadata": {},
   "source": [
    "## Gathering MetaData"
   ]
  },
  {
   "cell_type": "markdown",
   "id": "db8b70dc-e3d0-47eb-873f-fc6723c4889d",
   "metadata": {},
   "source": [
    "The class1 attribute contains the following classes:\n",
    "- VPN-BROWSING\n",
    "- VPN-CHAT\n",
    "- VPN-STREAMING\n",
    "- VPN-MAIL\n",
    "- VPN-VOIP\n",
    "- VPN-P2P\n",
    "- VPN-FT"
   ]
  },
  {
   "cell_type": "markdown",
   "id": "3a1943a0-cb61-48d3-aed4-df10c83c4912",
   "metadata": {},
   "source": [
    "Columns:\n",
    "- duration - total duration of netowrk flow\n",
    "- total_fiat - tot bytes in fwd direction (client->server)\n",
    "- total_biat - total bytes in backward direction (server to client)\n",
    "- min_fiat - Minimum forward inter-arrival time (time between packets in forward dir)\n",
    "- min_biat - Minimum backward inter-arrival time\n",
    "- max_fiat - Maximum forward inter-arrival time\n",
    "- max_biat - Maximum backward inter-arrival time\n",
    "- mean_fiat - Mean forward inter-arrival time\n",
    "- mean_biat - Mean backward inter-arrival time\n",
    "- flowPktsPerSecond - Packets per second in the flow\n",
    "- flowBytesPerSecond - Bytes per second in the flow\n",
    "- min_flowiat - Minimum inter-arrival time between all packets in the flow\n",
    "- max_flowiat - Maximum inter-arrival time between all packets\n",
    "- mean_flowiat - Mean inter-arrival time between all packets\n",
    "- std_flowiat - std deviation of flow arrival time\n",
    "- min_active - Minimum time a flow was active (sending/receiving data)\n",
    "- mean_active - mean active time\n",
    "- max_active - max active time\n",
    "- std_active - Standard deviation of active times\n",
    "- min_idle - Minimum idle time (no data transmission)\n",
    "- mean_idle - mean idle time\n",
    "- max_idle - max idle time\n",
    "- std_idle - standard deviation of idle timeviation of idle times\tμs"
   ]
  },
  {
   "cell_type": "code",
   "execution_count": 13,
   "id": "ffd31184-296c-4feb-b327-b007d579e2bd",
   "metadata": {},
   "outputs": [
    {
     "data": {
      "text/plain": [
       "duration              0\n",
       "total_fiat            0\n",
       "total_biat            0\n",
       "min_fiat              0\n",
       "min_biat              0\n",
       "max_fiat              0\n",
       "max_biat              0\n",
       "mean_fiat             0\n",
       "mean_biat             0\n",
       "flowPktsPerSecond     0\n",
       "flowBytesPerSecond    0\n",
       "min_flowiat           0\n",
       "max_flowiat           0\n",
       "mean_flowiat          0\n",
       "std_flowiat           0\n",
       "min_active            0\n",
       "mean_active           0\n",
       "max_active            0\n",
       "std_active            0\n",
       "min_idle              0\n",
       "mean_idle             0\n",
       "max_idle              0\n",
       "std_idle              0\n",
       "class1                0\n",
       "dtype: int64"
      ]
     },
     "execution_count": 13,
     "metadata": {},
     "output_type": "execute_result"
    }
   ],
   "source": [
    "df.isna().sum()"
   ]
  },
  {
   "cell_type": "markdown",
   "id": "1a13871e-f940-4a43-a32c-9c3beaa390cf",
   "metadata": {},
   "source": [
    "But there are missing values represented as -1"
   ]
  },
  {
   "cell_type": "code",
   "execution_count": 14,
   "id": "5a21116f-7853-4267-a4ae-ad97d4a937ba",
   "metadata": {},
   "outputs": [
    {
     "data": {
      "text/plain": [
       "duration                 0\n",
       "total_fiat               0\n",
       "total_biat               0\n",
       "min_fiat              1284\n",
       "min_biat              1966\n",
       "max_fiat              1284\n",
       "max_biat              1966\n",
       "mean_fiat                0\n",
       "mean_biat                0\n",
       "flowPktsPerSecond        0\n",
       "flowBytesPerSecond       0\n",
       "min_flowiat            354\n",
       "max_flowiat            326\n",
       "mean_flowiat             0\n",
       "std_flowiat              0\n",
       "min_active            5429\n",
       "mean_active              0\n",
       "max_active            5429\n",
       "std_active               0\n",
       "min_idle              5429\n",
       "mean_idle                0\n",
       "max_idle              5429\n",
       "std_idle                 0\n",
       "class1                   0\n",
       "dtype: int64"
      ]
     },
     "execution_count": 14,
     "metadata": {},
     "output_type": "execute_result"
    }
   ],
   "source": [
    "(df == -1).sum()"
   ]
  },
  {
   "cell_type": "code",
   "execution_count": 15,
   "id": "abd6361c-5bae-4506-a90e-35fbb9c24af8",
   "metadata": {},
   "outputs": [],
   "source": [
    "import numpy as np"
   ]
  },
  {
   "cell_type": "code",
   "execution_count": 16,
   "id": "61ab363c-035c-4409-b14a-5085f07924cf",
   "metadata": {},
   "outputs": [],
   "source": [
    "df.replace(-1, np.nan, inplace=True)"
   ]
  },
  {
   "cell_type": "code",
   "execution_count": 17,
   "id": "a2894678-d8af-4d53-9bc6-b44be375cf3a",
   "metadata": {},
   "outputs": [
    {
     "data": {
      "text/plain": [
       "duration                 0\n",
       "total_fiat               0\n",
       "total_biat               0\n",
       "min_fiat              1284\n",
       "min_biat              1966\n",
       "max_fiat              1284\n",
       "max_biat              1966\n",
       "mean_fiat                0\n",
       "mean_biat                0\n",
       "flowPktsPerSecond        0\n",
       "flowBytesPerSecond       0\n",
       "min_flowiat            354\n",
       "max_flowiat            326\n",
       "mean_flowiat             0\n",
       "std_flowiat              0\n",
       "min_active            5429\n",
       "mean_active              0\n",
       "max_active            5429\n",
       "std_active               0\n",
       "min_idle              5429\n",
       "mean_idle                0\n",
       "max_idle              5429\n",
       "std_idle                 0\n",
       "class1                   0\n",
       "dtype: int64"
      ]
     },
     "execution_count": 17,
     "metadata": {},
     "output_type": "execute_result"
    }
   ],
   "source": [
    "df.isnull().sum()"
   ]
  },
  {
   "cell_type": "code",
   "execution_count": 18,
   "id": "c3968fb3-a97e-4b3d-8cd9-6f346895a32b",
   "metadata": {},
   "outputs": [
    {
     "data": {
      "text/plain": [
       "<Axes: xlabel='class1'>"
      ]
     },
     "execution_count": 18,
     "metadata": {},
     "output_type": "execute_result"
    },
    {
     "data": {
      "image/png": "[encoded data removed]",
      "text/plain": [
       "<Figure size 640x480 with 1 Axes>"
      ]
     },
     "metadata": {},
     "output_type": "display_data"
    }
   ],
   "source": [
    "df['class1'].value_counts().plot(kind='bar')  # So the results are not very balanced, hence we will have to use weights"
   ]
  },
  {
   "cell_type": "markdown",
   "id": "7f12504c-92bd-4c85-a7fe-551a56a0bbf1",
   "metadata": {},
   "source": [
    "## Data Preprocessing"
   ]
  },
  {
   "cell_type": "code",
   "execution_count": 19,
   "id": "af39f371-b899-4a6f-a1cc-ce39fd8fcefe",
   "metadata": {},
   "outputs": [],
   "source": [
    "df = df.apply(lambda x: x.fillna(x.median()) if x.dtype != 'O' else x)  #Replacing all nan values with the median"
   ]
  },
  {
   "cell_type": "code",
   "execution_count": 20,
   "id": "d2de88bb-26b7-42a5-a88f-5a6fc88bfb91",
   "metadata": {},
   "outputs": [
    {
     "data": {
      "text/plain": [
       "duration              0\n",
       "total_fiat            0\n",
       "total_biat            0\n",
       "min_fiat              0\n",
       "min_biat              0\n",
       "max_fiat              0\n",
       "max_biat              0\n",
       "mean_fiat             0\n",
       "mean_biat             0\n",
       "flowPktsPerSecond     0\n",
       "flowBytesPerSecond    0\n",
       "min_flowiat           0\n",
       "max_flowiat           0\n",
       "mean_flowiat          0\n",
       "std_flowiat           0\n",
       "min_active            0\n",
       "mean_active           0\n",
       "max_active            0\n",
       "std_active            0\n",
       "min_idle              0\n",
       "mean_idle             0\n",
       "max_idle              0\n",
       "std_idle              0\n",
       "class1                0\n",
       "dtype: int64"
      ]
     },
     "execution_count": 20,
     "metadata": {},
     "output_type": "execute_result"
    }
   ],
   "source": [
    "df.isna().sum()"
   ]
  },
  {
   "cell_type": "code",
   "execution_count": 21,
   "id": "77f7a673-4217-4ac1-b56a-c020b42e346c",
   "metadata": {},
   "outputs": [],
   "source": [
    "from sklearn.preprocessing import LabelEncoder\n",
    "le = LabelEncoder()\n",
    "y = le.fit_transform(df['class1'])   #Encoding class labels\n",
    "X = df.drop('class1', axis=1)"
   ]
  },
  {
   "cell_type": "code",
   "execution_count": 22,
   "id": "7ad29777-27ad-4395-a9c7-77061f95e586",
   "metadata": {},
   "outputs": [],
   "source": [
    "from sklearn.model_selection import train_test_split\n",
    "X_train, X_test, y_train, y_test = train_test_split(\n",
    "    X, y, test_size=0.2, stratify=y, random_state=42  #stratify to ensure equal split of the output rows\n",
    ")\n"
   ]
  },
  {
   "cell_type": "markdown",
   "id": "0a7d0dd0-37bd-4a78-a482-4d9c3c93914a",
   "metadata": {},
   "source": [
    "# Training"
   ]
  },
  {
   "cell_type": "code",
   "execution_count": 26,
   "id": "82038faf-61ca-4502-8793-0ebb09553c5e",
   "metadata": {},
   "outputs": [],
   "source": [
    "from sklearn.preprocessing import StandardScaler\n",
    "from sklearn.feature_selection import SelectKBest, mutual_info_classif\n",
    "from sklearn.pipeline import Pipeline\n",
    "from sklearn.svm import SVC\n",
    "\n",
    "\n",
    "pipeline = Pipeline([\n",
    "    ('scaler', StandardScaler()),  # Normalize features\n",
    "    ('feature_selector', SelectKBest(mutual_info_classif, k=10)),  # Top 10 features\n",
    "    ('classifier', SVC())  # SVM classifier\n",
    "])"
   ]
  },
  {
   "cell_type": "code",
   "execution_count": 27,
   "id": "6c7b6c14-7eb0-4794-b878-767f157434c4",
   "metadata": {},
   "outputs": [
    {
     "name": "stdout",
     "output_type": "stream",
     "text": [
      "Fitting 5 folds for each of 24 candidates, totalling 120 fits\n"
     ]
    }
   ],
   "source": [
    "#from sklearn.svm import SVC\n",
    "from sklearn.model_selection import GridSearchCV   #Hyper-parameter tuning\n",
    " \n",
    "param_grid = {\n",
    "    'classifier__C': [0.1, 1, 10],  # Regularization strength\n",
    "    'classifier__kernel': ['rbf', 'poly'],  # Kernel type\n",
    "    'classifier__gamma': ['scale', 'auto'],  # Kernel coefficient\n",
    "    'classifier__class_weight': [None, 'balanced']  # Handle class imbalance\n",
    "}\n",
    "\n",
    "grid_search = GridSearchCV(   #Tunes the model to the hyperparameters with cv=5 i.e. trains on 4 cvs and uses one to test, tries all different combinations of parameters and outputs the best one\n",
    "    pipeline,\n",
    "    param_grid,\n",
    "    cv=5,  # 5-fold cross-validation\n",
    "    scoring='f1_macro',  # Metric for encrypted traffic classification\n",
    "    n_jobs=-1,  # Use all CPU cores\n",
    "    verbose=1  # Show progress\n",
    ")   \n",
    "grid_search.fit(X_train, y_train)   # This executes the raining part on all diferent parameter combinations on our dataset\n",
    "best_model = grid_search.best_estimator_  #Outputs the model with the best possible parameter combinations from amongst our param_grid\n"
   ]
  },
  {
   "cell_type": "markdown",
   "id": "9083cd94-e188-4016-b36b-95aa9631a10b",
   "metadata": {},
   "source": [
    "# Evaluation"
   ]
  },
  {
   "cell_type": "code",
   "execution_count": 28,
   "id": "8a2e1ed2-292a-4c4b-b193-69a43cf6ef4e",
   "metadata": {},
   "outputs": [
    {
     "name": "stdout",
     "output_type": "stream",
     "text": [
      "\n",
      "Classification Report:\n",
      "               precision    recall  f1-score   support\n",
      "\n",
      " VPN-BROWSING       0.76      0.78      0.77       500\n",
      "     VPN-CHAT       0.48      0.54      0.51       239\n",
      "       VPN-FT       0.71      0.37      0.48       387\n",
      "     VPN-MAIL       0.48      0.79      0.59        98\n",
      "      VPN-P2P       0.51      0.73      0.60       186\n",
      "VPN-STREAMING       0.78      0.91      0.84        95\n",
      "     VPN-VOIP       0.98      0.97      0.98       454\n",
      "\n",
      "     accuracy                           0.71      1959\n",
      "    macro avg       0.67      0.72      0.68      1959\n",
      " weighted avg       0.73      0.71      0.71      1959\n",
      "\n"
     ]
    },
    {
     "data": {
      "image/png": "[encoded data removed]",
      "text/plain": [
       "<Figure size 1000x700 with 2 Axes>"
      ]
     },
     "metadata": {},
     "output_type": "display_data"
    }
   ],
   "source": [
    "from sklearn.metrics import classification_report, confusion_matrix\n",
    "import matplotlib.pyplot as plt\n",
    "import seaborn as sns\n",
    "\n",
    "y_pred = best_model.predict(X_test)\n",
    "\n",
    "print(\"\\nClassification Report:\")\n",
    "print(classification_report(\n",
    "    y_test, \n",
    "    y_pred, \n",
    "    target_names=le.classes_\n",
    "))\n",
    "\n",
    "# Confusion matrix\n",
    "plt.figure(figsize=(10,7))\n",
    "sns.heatmap(confusion_matrix(y_test, y_pred), \n",
    "            annot=True, \n",
    "            fmt='d',\n",
    "            xticklabels=le.classes_,\n",
    "            yticklabels=le.classes_)\n",
    "plt.title('Confusion Matrix for VPN Traffic Classification')\n",
    "plt.xlabel('Predicted')\n",
    "plt.ylabel('Actual')\n",
    "plt.show()"
   ]
  },
  {
   "cell_type": "code",
   "execution_count": 29,
   "id": "7f74e005-b791-4f27-8732-099460cadf9f",
   "metadata": {},
   "outputs": [
    {
     "name": "stdout",
     "output_type": "stream",
     "text": [
      "\n",
      "Top 10 Features for Traffic Classification:\n",
      "               Feature     Score\n",
      "12         max_flowiat  0.846949\n",
      "10  flowBytesPerSecond  0.828969\n",
      "5             max_fiat  0.806255\n",
      "13        mean_flowiat  0.783708\n",
      "14         std_flowiat  0.780264\n",
      "8            mean_biat  0.777773\n",
      "7            mean_fiat  0.776767\n",
      "9    flowPktsPerSecond  0.773699\n",
      "6             max_biat  0.765161\n",
      "0             duration  0.734947\n",
      "\n",
      "Best Parameters: {'classifier__C': 10, 'classifier__class_weight': 'balanced', 'classifier__gamma': 'scale', 'classifier__kernel': 'rbf'}\n",
      "Best F1 Macro Score: 0.6823697981882797\n"
     ]
    },
    {
     "data": {
      "image/png": "[encoded data removed]",
      "text/plain": [
       "<Figure size 1000x500 with 1 Axes>"
      ]
     },
     "metadata": {},
     "output_type": "display_data"
    }
   ],
   "source": [
    "selected_features = X.columns[best_model.named_steps['feature_selector'].get_support()]\n",
    "\n",
    "# Feature importance scores\n",
    "feature_scores = pd.DataFrame({\n",
    "    'Feature': X.columns,\n",
    "    'Score': best_model.named_steps['feature_selector'].scores_\n",
    "}).sort_values('Score', ascending=False)\n",
    "\n",
    "print(\"\\nTop 10 Features for Traffic Classification:\")\n",
    "print(feature_scores.head(10))\n",
    "\n",
    "# ---------------------\n",
    "# 7. Final Model Insights\n",
    "# ---------------------\n",
    "print(\"\\nBest Parameters:\", grid_search.best_params_)\n",
    "print(\"Best F1 Macro Score:\", grid_search.best_score_)\n",
    "\n",
    "# Class distribution visualization\n",
    "plt.figure(figsize=(10,5))\n",
    "df['class1'].value_counts().plot(kind='bar')\n",
    "plt.title('Class Distribution in Network Traffic Data')\n",
    "plt.xlabel('Traffic Type')\n",
    "plt.ylabel('Count')\n",
    "plt.show()"
   ]
  },
  {
   "cell_type": "code",
   "execution_count": null,
   "id": "6364bcaa-e889-478e-85fa-22bfc6446105",
   "metadata": {},
   "outputs": [],
   "source": []
  }
 ],
 "metadata": {
  "kernelspec": {
   "display_name": "Python 3 (ipykernel)",
   "language": "python",
   "name": "python3"
  },
  "language_info": {
   "codemirror_mode": {
    "name": "ipython",
    "version": 3
   },
   "file_extension": ".py",
   "mimetype": "text/x-python",
   "name": "python",
   "nbconvert_exporter": "python",
   "pygments_lexer": "ipython3",
   "version": "3.11.6"
  }
 },
 "nbformat": 4,
 "nbformat_minor": 5
}
